{
 "cells": [
  {
   "cell_type": "code",
   "execution_count": null,
   "metadata": {},
   "outputs": [],
   "source": [
    "# Import necessary tools\n",
    "\n",
    "import numpy as np\n",
    "from sklearn.ensemble import VotingClassifier\n",
    "from sklearn.tree import DecisionTreeRegressor\n",
    "from sklearn.linear_model import LinearRegression\n",
    "from sklearn.metrics import mean_squared_error\n",
    "\n",
    "\n",
    "# Create a list of fine-tuned estimators\n",
    "\n",
    "clf_tree = DecisionTreeRegressor (#fine-tuned hyper-parameters)\n",
    "clf_lr   = LinearRegression(#fine-tuned hyper-parameters)\n",
    "\n",
    "estimators = [('tree', clf_tree),('lr', clf_lr)]\n",
    "\n",
    "# Create and fit voting classifier\n",
    "\n",
    "soft_vote = VotingClassifier(estimators = estimators, voting = 'soft') \n",
    "\n",
    "soft_vote.fit(X_train, y_train)\n",
    "    \n",
    "# Evaluate voting classifier\n",
    "    \n",
    "pred = soft_vote.predict(X_test)\n",
    "\n",
    "RMSE = np.sqrt(mean_squared_error(y_test, pred))\n",
    "print ('RMSE: {.2f}'.format(RMSE))\n",
    "    "
   ]
  }
 ],
 "metadata": {
  "kernelspec": {
   "display_name": "Python 3",
   "language": "python",
   "name": "python3"
  },
  "language_info": {
   "codemirror_mode": {
    "name": "ipython",
    "version": 3
   },
   "file_extension": ".py",
   "mimetype": "text/x-python",
   "name": "python",
   "nbconvert_exporter": "python",
   "pygments_lexer": "ipython3",
   "version": "3.8.3"
  }
 },
 "nbformat": 4,
 "nbformat_minor": 4
}
