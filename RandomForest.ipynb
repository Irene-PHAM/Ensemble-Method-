{
 "cells": [
  {
   "cell_type": "code",
   "execution_count": null,
   "metadata": {},
   "outputs": [],
   "source": [
    "# Import RandomForestRegressor\n",
    "from sklearn.model_selection import train_test_split\n",
    "from sklearn.ensemble import RandomForestRegressor\n",
    "from sklearn.metrics import mean_squared_error as MSE\n",
    "\n",
    "# Split dataset \n",
    "X_train, X_test, y_train, y_test = train_test_split(X, y,  \n",
    "                                                    test_size= #float in range 0-1,\n",
    "                                                    random_state=42)\n",
    "\n",
    "\n",
    "# Instantiate classifier\n",
    "rf = RandomForestRegressor(n_estimators = # int: number of trees,\n",
    "                           max_depth = #int: max depth of the tree\n",
    "                           min_samples_leaf = #int: min n of samples required at a leaf node\n",
    "                           max_features = #int/float: n of feature to consider\n",
    "                                           when looking for the best split\n",
    "                           oob_score = #bool: use out-of-bag samples to estimate \n",
    "                                               metric on unseen data\n",
    "                           random_state = 2)\n",
    "            \n",
    "# Fit rf to the training set    \n",
    "rf.fit(X_train, y_train) \n",
    "\n",
    "# Predict the test set labels\n",
    "y_pred = rf.predict(X_test)\n",
    "\n",
    "# Evaluate the test set RMSE\n",
    "rmse_test = MSE(y_test, y_pred)**(1/2)\n",
    "\n",
    "# Print rmse_test\n",
    "print('Test set RMSE of rf: {:.2f}'.format(rmse_test))"
   ]
  }
 ],
 "metadata": {
  "kernelspec": {
   "display_name": "Python 3",
   "language": "python",
   "name": "python3"
  },
  "language_info": {
   "codemirror_mode": {
    "name": "ipython",
    "version": 3
   },
   "file_extension": ".py",
   "mimetype": "text/x-python",
   "name": "python",
   "nbconvert_exporter": "python",
   "pygments_lexer": "ipython3",
   "version": "3.8.3"
  }
 },
 "nbformat": 4,
 "nbformat_minor": 4
}
