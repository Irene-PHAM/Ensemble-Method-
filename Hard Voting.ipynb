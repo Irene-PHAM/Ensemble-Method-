{
 "cells": [
  {
   "cell_type": "code",
   "execution_count": null,
   "metadata": {},
   "outputs": [],
   "source": [
    "# Import necessary tools\n",
    "\n",
    "from sklearn.ensemble import VotingClassifier\n",
    "from sklearn.tree import DecisionTreeClassifier\n",
    "from sklearn.neighbors import KNeighborsClassifier\n",
    "from sklearn.linear_model import LogisticRegression\n",
    "from sklearn.metrics import f1_score\n",
    "from sklearn.metrics import classification_report\n",
    "\n",
    "# Create a list of fine-tuned estimators\n",
    "\n",
    "clf_tree = DecisionTreeClassifier (#fine-tuned hyper-parameters)\n",
    "clf_knn  = KNeighborsClassifier(#fine-tuned hyper-parameters)\n",
    "clf_lr   = LogisticRegression(#fine-tuned hyper-parameters)\n",
    "\n",
    "estimators = [('tree', clf_tree),('knn', clf_knn),('lr', clf_lr)]\n",
    "\n",
    "# Create and fit voting classifier\n",
    "\n",
    "hard_vote = VotingClassifier(estimators = estimators) # parameter: voting = 'hard' is default\n",
    "\n",
    "hard_vote.fit(X_train, y_train)\n",
    "    \n",
    "# Evaluate voting classifier\n",
    "    \n",
    "pred = hard_vote.predict(X_test)\n",
    "\n",
    "f1_score = f1_score(y_test, pred)\n",
    "print ('F1 score: {.2f}'.format(f1_score))\n",
    "    \n",
    "report = classification_report(y_test, pred)\n",
    "print(report)"
   ]
  }
 ],
 "metadata": {
  "kernelspec": {
   "display_name": "Python 3",
   "language": "python",
   "name": "python3"
  },
  "language_info": {
   "codemirror_mode": {
    "name": "ipython",
    "version": 3
   },
   "file_extension": ".py",
   "mimetype": "text/x-python",
   "name": "python",
   "nbconvert_exporter": "python",
   "pygments_lexer": "ipython3",
   "version": "3.8.3"
  }
 },
 "nbformat": 4,
 "nbformat_minor": 4
}
